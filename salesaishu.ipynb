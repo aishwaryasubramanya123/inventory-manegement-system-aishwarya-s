{
  "nbformat": 4,
  "nbformat_minor": 0,
  "metadata": {
    "colab": {
      "name": "salesaishu.ipynb",
      "provenance": [],
      "collapsed_sections": []
    },
    "kernelspec": {
      "name": "python3",
      "display_name": "Python 3"
    },
    "language_info": {
      "name": "python"
    }
  },
  "cells": [
    {
      "cell_type": "code",
      "metadata": {
        "colab": {
          "base_uri": "https://localhost:8080/"
        },
        "id": "AKod8czZglr6",
        "outputId": "b4be4ce9-e291-41df-a6e4-22597e4335c2"
      },
      "source": [
        "import json\n",
        "fd=open(\"record.json\",\"r\")\n",
        "r=fd.read()\n",
        "inventory=json.loads(r)\n",
        "print(inventory)\n",
        "noprod=int(input(\"enter the product number of products you need to purchase\"))\n",
        "sales={}\n",
        "bill=0\n",
        "while noprod!=0:\n",
        "    pid=input(\"enter the product id you need to purchase\")\n",
        "    print(\"enetr the quantity leess or eqal to \",inventory[pid][\"quantity\"])\n",
        "    qut=int(input(\"enter the quqntity of the product\"))\n",
        "    bill=bill+inventory[pid][\"price\"]*qut\n",
        "    inventory[pid][\"quantity\"]=inventory[pid][\"quantity\"]-qut\n",
        "    sales[pid]={\"name\":inventory[pid][\"name\"],\"price\":inventory[pid][\"price\"],\n",
        "                \"category\":inventory[pid][\"category\"],\"quantity\":qut}\n",
        "    noprod-=1\n",
        "js=json.dumps(inventory)\n",
        "fd=open(\"record.json\",\"w\")\n",
        "fd.write(js)\n",
        "fd.close()\n",
        "jsn=json.dumps(sales)\n",
        "fd=open(\"sales.json\",\"a\")\n",
        "fd.write(jsn)\n",
        "fd.close() \n",
        "print(\"your bill is \",bill)\n",
        "print(\"thankyou\",\"have a great day\")\n",
        "\n",
        "\n",
        "\n",
        "\n",
        "\n",
        "\n"
      ],
      "execution_count": 23,
      "outputs": [
        {
          "output_type": "stream",
          "name": "stdout",
          "text": [
            "{'1': {'name': 'kitkat', 'category': 'chocolate', 'veg/nonveg': 'veg', 'price': 10, 'quantity': 159}, '2': {'name': 'lays', 'category': 'snacks', 'veg/nonveg': 'veg', 'price': 10, 'quantity': 190}, '3': {'name': 'dairy milk', 'category': 'chocolate', 'veg/nonveg': 'veg', 'price': 160, 'quantity': 40}, '4': {'name': 'maaza', 'category': 'soft drinks', 'veg/nonveg': 'veg', 'price': 30, 'quantity': 300}, '5': {'name': 'pepsi', 'category': 'soft drinks', 'veg/nonveg': 'veg', 'price': 50, 'quantity': 100}, '6': {'name': 'butter cake', 'category': 'cake', 'veg/nonveg': 'veg', 'price': 20, 'quantity': 200}, '7': {'name': 'bingo', 'category': 'chips', 'veg/nonveg': 'veg', 'price': 10, 'quantity': 100}, '8': {'name': 'perk', 'category': 'chocolate', 'veg/nonveg': 'veg', 'price': 15, 'quantity': 300}, '9': {'name': 'diamond rings', 'category': 'snacks', 'veg/nonveg': 'veg', 'price': 5, 'quantity': 100}, '10': {'name': 'appy', 'category': 'soft drinks', 'veg/nonveg': 'veg', 'price': 10, 'quantity': 500}, '11': {'name': 'egg roll', 'category': 'snaks', 'veg/nonveg': 'nonveg', 'price': 30, 'quantity': 300}, '12': {'name': 'spirte', 'category': 'soft drinks', 'veg/nonveg': 'veg', 'price': 20, 'quantity': 200}, '13': {'name': '7 up', 'category': 'soft drinks', 'veg/nonveg': 'veg', 'price': 30, 'quantity': 100}, '14': {'name': 'tomato sauce', 'category': 'snacks', 'veg/nonveg': 'veg', 'price': 10, 'quantity': 100}, '15': {'name': 'munch', 'category': 'chocolate', 'veg/nonveg': 'veg', 'price': 15, 'quantity': 300}, '16': {'name': 'galaxcy', 'category': 'chocolate', 'veg/nonveg': 'veg', 'price': 15, 'quantity': 400}, '17': {'name': 'jimjam', 'category': 'cake', 'veg/nonveg': 'veg', 'price': 10, 'quantity': 150}, '18': {'name': 'bun', 'category': 'snaks', 'veg/nonveg': 'veg', 'price': 10, 'quantity': 200}, '19': {'name': 'tictak', 'category': 'chocolate', 'veg/nonveg': 'veg', 'price': 10, 'quantity': 300}, '20': {'name': 'milky bar', 'category': 'chocolate', 'veg/nonveg': 'veg', 'price': 10, 'quantity': 350}, '21': {'name': 'kur kure', 'category': 'snaks', 'veg/nonveg': 'veg', 'price': 10, 'quantity': 200}, '22': {'name': 'banana cake', 'category': 'cake', 'veg/nonveg': 'veg', 'price': 10, 'quantity': 134}, '23': {'name': 'badham drink', 'category': 'soft drink', 'veg/nonveg': 'veg', 'price': 40, 'quantity': 300}, '24': {'name': 'chochi chochi', 'category': 'chocolate', 'veg/nonveg': 'veg', 'price': 5, 'quantity': 478}, '25': {'name': 'kiss me', 'category': 'chocolate', 'veg/nonveg': 'veg', 'price': 1, 'quantity': 100}, '26': {'name': 'lolypop', 'category': 'chocolate', 'veg/nonveg': 'veg', 'price': 10, 'quantity': 70}, '27': {'name': 'noodles', 'category': 'snaks', 'veg/nonveg': 'veg', 'price': 10, 'quantity': 437}, '28': {'name': 'coffe choo', 'category': 'chocolate', 'veg/nonveg': 'veg', 'price': 1, 'quantity': 100}, '29': {'name': 'tofee choo', 'category': 'chocolate', 'veg/nonveg': 'veg', 'price': 1, 'quantity': 100}, '30': {'name': '5 star', 'category': 'chocolate', 'veg/nonveg': 'veg', 'price': 10, 'quantity': 200}}\n",
            "enter the product number of products you need to purchase1\n",
            "enter the product id you need to purchase1\n",
            "enetr the quantity leess or eqal to  159\n",
            "enter the quqntity of the product10\n",
            "your bill is  100\n",
            "thankyou have a great day\n"
          ]
        }
      ]
    },
    {
      "cell_type": "code",
      "metadata": {
        "colab": {
          "base_uri": "https://localhost:8080/"
        },
        "id": "8e9zuOJVtBcI",
        "outputId": "414414ef-6e88-4660-f0ca-1ded51381f4a"
      },
      "source": [
        "print(inventory)"
      ],
      "execution_count": 20,
      "outputs": [
        {
          "output_type": "stream",
          "name": "stdout",
          "text": [
            "{'1': {'name': 'kitkat', 'category': 'chocolate', 'veg/nonveg': 'veg', 'price': 10, 'quantity': 159}, '2': {'name': 'lays', 'category': 'snacks', 'veg/nonveg': 'veg', 'price': 10, 'quantity': 190}, '3': {'name': 'dairy milk', 'category': 'chocolate', 'veg/nonveg': 'veg', 'price': 160, 'quantity': 40}, '4': {'name': 'maaza', 'category': 'soft drinks', 'veg/nonveg': 'veg', 'price': 30, 'quantity': 300}, '5': {'name': 'pepsi', 'category': 'soft drinks', 'veg/nonveg': 'veg', 'price': 50, 'quantity': 100}, '6': {'name': 'butter cake', 'category': 'cake', 'veg/nonveg': 'veg', 'price': 20, 'quantity': 200}, '7': {'name': 'bingo', 'category': 'chips', 'veg/nonveg': 'veg', 'price': 10, 'quantity': 100}, '8': {'name': 'perk', 'category': 'chocolate', 'veg/nonveg': 'veg', 'price': 15, 'quantity': 300}, '9': {'name': 'diamond rings', 'category': 'snacks', 'veg/nonveg': 'veg', 'price': 5, 'quantity': 100}, '10': {'name': 'appy', 'category': 'soft drinks', 'veg/nonveg': 'veg', 'price': 10, 'quantity': 500}, '11': {'name': 'egg roll', 'category': 'snaks', 'veg/nonveg': 'nonveg', 'price': 30, 'quantity': 300}, '12': {'name': 'spirte', 'category': 'soft drinks', 'veg/nonveg': 'veg', 'price': 20, 'quantity': 200}, '13': {'name': '7 up', 'category': 'soft drinks', 'veg/nonveg': 'veg', 'price': 30, 'quantity': 100}, '14': {'name': 'tomato sauce', 'category': 'snacks', 'veg/nonveg': 'veg', 'price': 10, 'quantity': 100}, '15': {'name': 'munch', 'category': 'chocolate', 'veg/nonveg': 'veg', 'price': 15, 'quantity': 300}, '16': {'name': 'galaxcy', 'category': 'chocolate', 'veg/nonveg': 'veg', 'price': 15, 'quantity': 400}, '17': {'name': 'jimjam', 'category': 'cake', 'veg/nonveg': 'veg', 'price': 10, 'quantity': 150}, '18': {'name': 'bun', 'category': 'snaks', 'veg/nonveg': 'veg', 'price': 10, 'quantity': 200}, '19': {'name': 'tictak', 'category': 'chocolate', 'veg/nonveg': 'veg', 'price': 10, 'quantity': 300}, '20': {'name': 'milky bar', 'category': 'chocolate', 'veg/nonveg': 'veg', 'price': 10, 'quantity': 350}, '21': {'name': 'kur kure', 'category': 'snaks', 'veg/nonveg': 'veg', 'price': 10, 'quantity': 200}, '22': {'name': 'banana cake', 'category': 'cake', 'veg/nonveg': 'veg', 'price': 10, 'quantity': 134}, '23': {'name': 'badham drink', 'category': 'soft drink', 'veg/nonveg': 'veg', 'price': 40, 'quantity': 300}, '24': {'name': 'chochi chochi', 'category': 'chocolate', 'veg/nonveg': 'veg', 'price': 5, 'quantity': 478}, '25': {'name': 'kiss me', 'category': 'chocolate', 'veg/nonveg': 'veg', 'price': 1, 'quantity': 100}, '26': {'name': 'lolypop', 'category': 'chocolate', 'veg/nonveg': 'veg', 'price': 10, 'quantity': 70}, '27': {'name': 'noodles', 'category': 'snaks', 'veg/nonveg': 'veg', 'price': 10, 'quantity': 437}, '28': {'name': 'coffe choo', 'category': 'chocolate', 'veg/nonveg': 'veg', 'price': 1, 'quantity': 100}, '29': {'name': 'tofee choo', 'category': 'chocolate', 'veg/nonveg': 'veg', 'price': 1, 'quantity': 100}, '30': {'name': '5 star', 'category': 'chocolate', 'veg/nonveg': 'veg', 'price': 10, 'quantity': 200}}\n"
          ]
        }
      ]
    },
    {
      "cell_type": "code",
      "metadata": {
        "colab": {
          "base_uri": "https://localhost:8080/"
        },
        "id": "YT-Wkq3gtJ2V",
        "outputId": "ea6b9a46-7c58-4c50-b01f-68059ad455dd"
      },
      "source": [
        "print(sales)"
      ],
      "execution_count": 21,
      "outputs": [
        {
          "output_type": "stream",
          "name": "stdout",
          "text": [
            "{'1': {'name': 'kitkat', 'price': 10, 'category': 'chocolate', 'quantity': 10}}\n"
          ]
        }
      ]
    }
  ]
}